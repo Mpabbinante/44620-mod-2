{
 "cells": [
  {
   "cell_type": "markdown",
   "metadata": {},
   "source": [
    "# Web Mining and Applied NLP (44-620)\n",
    "\n",
    "## Python Notebooks, Basics, and Data Structures\n",
    "\n",
    "### Student Name: Mike Abbinante\n",
    "\n",
    "Perform the tasks described in the Markdown cells below.  When you have completed the assignment make sure your code cells have all been run (and have output beneath them) and ensure you have committed and pushed ALL of your changes to your assignment repository.\n",
    "\n",
    "Every question that requires you to write code will have a code cell underneath it; you may either write your entire solution in that cell or write it in a python file (`.py`), then import and run the appropriate code to answer the question.\n",
    "\n",
    "Do not use external modules (`math`, etc) for this assignment unless you are explicitly instructed to, though you may use built in python functions (`min`, `max`, etc) as you wish."
   ]
  },
  {
   "cell_type": "markdown",
   "metadata": {},
   "source": [
    "1. Modify the Markdown cell above to put your name after \"Student Name:\"; you will be expected to do this in all assignments presented in this format for this class."
   ]
  },
  {
   "cell_type": "markdown",
   "metadata": {},
   "source": [
    "2. Write code that divides any two numbers, stores the result in a variable, and prints the result with an appropriate label."
   ]
  },
  {
   "cell_type": "code",
   "execution_count": 1,
   "metadata": {},
   "outputs": [
    {
     "name": "stdout",
     "output_type": "stream",
     "text": [
      "Enter numerator:6\n",
      "Enter denominator:7\n",
      "division result is: 0.8571428571428571\n"
     ]
    }
   ],
   "source": [
    "#First way\n",
    "numerator = float (input(\"Enter numerator:\"))\n",
    "denominator =float(input(\"Enter denominator:\"))\n",
    "\n",
    "result = numerator / denominator\n",
    "\n",
    "print(\"division result is:\", result)"
   ]
  },
  {
   "cell_type": "code",
   "execution_count": 2,
   "metadata": {},
   "outputs": [
    {
     "name": "stdout",
     "output_type": "stream",
     "text": [
      "Div Result is: 0.8571428571428571\n"
     ]
    }
   ],
   "source": [
    "#Second way\n",
    "x = 6\n",
    "y= 7\n",
    "div = x/y\n",
    "print(\"Div Result is:\", div)"
   ]
  },
  {
   "cell_type": "markdown",
   "metadata": {},
   "source": [
    "3. Using loops (and potentially conditionals), write Python code that prints the factorial of each integer from 1 through 10 (which you can store in a variable if you want). The factorial of an integer is the product of all of the integers of 1 through the number. Print the result with an appropriate label."
   ]
  },
  {
   "cell_type": "code",
   "execution_count": 3,
   "metadata": {},
   "outputs": [
    {
     "name": "stdout",
     "output_type": "stream",
     "text": [
      "The factorial 1 is 1\n",
      "The factorial 2 is 2\n",
      "The factorial 3 is 6\n",
      "The factorial 4 is 24\n",
      "The factorial 5 is 120\n",
      "The factorial 6 is 720\n",
      "The factorial 7 is 5040\n",
      "The factorial 8 is 40320\n",
      "The factorial 9 is 362880\n",
      "The factorial 10 is 3628800\n"
     ]
    }
   ],
   "source": [
    "for number in range(1, 11):\n",
    "    factorial = 1\n",
    "    for i in range(1, number + 1):\n",
    "        factorial *= i\n",
    "    print(\"The factorial\", number, \"is\", factorial)\n"
   ]
  },
  {
   "cell_type": "markdown",
   "metadata": {},
   "source": [
    "4. Write a python function that takes a single parameter and calculates and returns the average (mean) of the values in the parameter (which you may assume is iterable).  Show that your function works by printing the result of calling the function on the list in the cell below."
   ]
  },
  {
   "cell_type": "code",
   "execution_count": 4,
   "metadata": {},
   "outputs": [],
   "source": [
    "testlist = [1,-1,2,-2,3,-3,4,-4]"
   ]
  },
  {
   "cell_type": "code",
   "execution_count": 5,
   "metadata": {},
   "outputs": [],
   "source": [
    "def calculate_mean(values):\n",
    "    total = sum(values)\n",
    "    count = len(values)\n",
    "    \n",
    "    mean = total / count\n",
    "    return mean"
   ]
  },
  {
   "cell_type": "code",
   "execution_count": 6,
   "metadata": {},
   "outputs": [
    {
     "name": "stdout",
     "output_type": "stream",
     "text": [
      "The mean of values1 is: 0.0\n",
      "The mean of values2 is: 6.444444444444445\n"
     ]
    }
   ],
   "source": [
    "values1 = [1,-1,2,-2,3,-3,4,-4]\n",
    "result1 = calculate_mean(values1)\n",
    "print(\"The mean of values1 is:\", result1)\n",
    "values2 = [1,6,5,4,7,8,9,9,9]\n",
    "result2 = calculate_mean(values2)\n",
    "print(\"The mean of values2 is:\", result2)"
   ]
  },
  {
   "cell_type": "markdown",
   "metadata": {},
   "source": [
    "5. Using your mean function above, write a function that calculates the variance of the list of numbers (see https://en.wikipedia.org/wiki/Variance for more information on the formula). In short:\n",
    "* subtract the mean of the elements in the list from every element in the list; store these values in a new list\n",
    "* square every element in the new list and sum the elements together\n",
    "* divide the resulting number by N (where N is the length of the original list)\n",
    "\n",
    "Show the result of calling your function in the lists in the code cell. You must use one or more list comprehensions or map/filter in your code.\n"
   ]
  },
  {
   "cell_type": "code",
   "execution_count": 7,
   "metadata": {},
   "outputs": [],
   "source": [
    "list1 = [ 5.670e-1, -1.480e+0, -5.570e-1, -1.470e+0, 7.340e-1, 1.050e+0, 4.480e-1, 2.570e-1, -1.970e+0, -1.460e+0]\n",
    "list2 = [-1.780e+0, 2.640e-1, 1.160e+0, 9.080e-1, 1.780e+0, 1.080e+0, 1.050e+0, -4.630e-2, 1.520e+0, 5.350e-1]\n",
    "# the variances of both lists should be relatively close to 1 (off by less than .15)"
   ]
  },
  {
   "cell_type": "code",
   "execution_count": 8,
   "metadata": {},
   "outputs": [],
   "source": [
    "def calculate_variance(values):\n",
    "    mean = calculate_mean(values)\n",
    "    differences = [(x - mean) ** 2 for x in values]\n",
    "    variance = sum(differences) / len(values)\n",
    "    return variance"
   ]
  },
  {
   "cell_type": "code",
   "execution_count": 9,
   "metadata": {},
   "outputs": [
    {
     "name": "stdout",
     "output_type": "stream",
     "text": [
      "The variance of list1 is: 1.13973309\n",
      "The variance of list1 is: 0.9257232841\n"
     ]
    }
   ],
   "source": [
    "result = calculate_variance(list1)\n",
    "print(\"The variance of list1 is:\", result)\n",
    "result = calculate_variance(list2)\n",
    "print(\"The variance of list1 is:\", result)"
   ]
  },
  {
   "cell_type": "markdown",
   "metadata": {},
   "source": [
    "6. Create a list with at least 15 elements in it. Use list slicing to print the following:\n",
    "* The first 5 elements of the list\n",
    "* The last 5 elements of the list\n",
    "* The list reversed (hint, show the entire list with a stride of -1)\n",
    "* Every second element in the list\n",
    "* Every third element in the list (stride of 3)"
   ]
  },
  {
   "cell_type": "code",
   "execution_count": 10,
   "metadata": {},
   "outputs": [
    {
     "name": "stdout",
     "output_type": "stream",
     "text": [
      "First 5 Elements: [1, 2, 6, 5, 4]\n",
      "Last 5 Elements: [56, 33, 34, 23, 25]\n",
      "Reversed list: [25, 23, 34, 33, 56, 56, 67, 6, 9, 8, 4, 5, 6, 2, 1]\n",
      "Every second element: [1, 6, 4, 9, 67, 56, 34, 25]\n",
      "Every third element: [1, 5, 9, 56, 34]\n"
     ]
    }
   ],
   "source": [
    "MPAlist= [1,2,6,5,4,8,9,6,67,56,56,33,34,23,25]\n",
    "print(\"First 5 Elements:\", MPAlist[:5])\n",
    "print(\"Last 5 Elements:\", MPAlist[-5:])\n",
    "print(\"Reversed list:\", MPAlist[::-1])\n",
    "print(\"Every second element:\", MPAlist[::2])\n",
    "print(\"Every third element:\", MPAlist[::3])"
   ]
  },
  {
   "cell_type": "markdown",
   "metadata": {},
   "source": [
    "7. Build a dictionary that contains the following information about this class (with appropriate names as keys):\n",
    "* The name\n",
    "* The course number\n",
    "* The semester/term in which you are taking this course\n",
    "* The number of credit hours this course counts for\n",
    "* A list of the course learning objectives\n",
    "\n",
    "The majority of this information can be found in the syllabus. Print the dictionary."
   ]
  },
  {
   "cell_type": "code",
   "execution_count": 11,
   "metadata": {},
   "outputs": [],
   "source": [
    "course_info = {\n",
    "    'name': '44-620 Web Mining and Applied Natural Language Processing',\n",
    "    'course_number': '44-620',\n",
    "    'semester': 'Summer 2023 – Block 2',\n",
    "    'credit_hours': 3,\n",
    "    'learning_objectives': [\n",
    "        'L01. Manage Python libraries and packages\tDiscussions, assignments',\n",
    "        'L02. Interact with Hosted Version Control Systems (e.g. Git and GitHub)',\n",
    "        'L03. Programmatically obtain and transform data from web-based APIs and HTML pages into a usable form.',\n",
    "        'L04. Describe the steps in a basic Natural Language Processing Pipeline',\n",
    "        'L05. Use preexisting tools and software libraries to perform some Natural Language Processing, such as sentiment analysis.'\n",
    "        'Explain results and conclusions drawn from the visualized information.'\n",
    "    ]}"
   ]
  },
  {
   "cell_type": "code",
   "execution_count": 12,
   "metadata": {},
   "outputs": [
    {
     "name": "stdout",
     "output_type": "stream",
     "text": [
      "{'name': '44-620 Web Mining and Applied Natural Language Processing', 'course_number': '44-620', 'semester': 'Summer 2023 – Block 2', 'credit_hours': 3, 'learning_objectives': ['L01. Manage Python libraries and packages\\tDiscussions, assignments', 'L02. Interact with Hosted Version Control Systems (e.g. Git and GitHub)', 'L03. Programmatically obtain and transform data from web-based APIs and HTML pages into a usable form.', 'L04. Describe the steps in a basic Natural Language Processing Pipeline', 'L05. Use preexisting tools and software libraries to perform some Natural Language Processing, such as sentiment analysis.Explain results and conclusions drawn from the visualized information.']}\n"
     ]
    }
   ],
   "source": [
    "print(course_info)"
   ]
  },
  {
   "cell_type": "markdown",
   "metadata": {},
   "source": [
    "8.  Given the dictionary defined in the code cell below, print the list of level 3 spells the character has."
   ]
  },
  {
   "cell_type": "code",
   "execution_count": 13,
   "metadata": {},
   "outputs": [],
   "source": [
    "player_character = {'name': 'Kitab',\n",
    "                   'class': [('Cleric: Knowledge', 7)],\n",
    "                   'spells': {'cantrip': ['Guidance', 'Light', 'Thaumaturgy', 'Toll the Dead', 'Word of Radiance'],\n",
    "                             'level 1': ['Command', 'Detect Magic', 'Healing Word', 'Identify', 'Sleep'],\n",
    "                             'level 2': ['Augury', 'Calm Emotions', 'Command', 'Invisibility', 'Lesser Restoration'],\n",
    "                             'level 3': ['Mass Healing Word', 'Nondetection', 'Revivify', 'Feign Death', 'Speak with Dead'],\n",
    "                             'level 4': ['Banishment', 'Confusion']}\n",
    "                   }"
   ]
  },
  {
   "cell_type": "code",
   "execution_count": 14,
   "metadata": {},
   "outputs": [
    {
     "name": "stdout",
     "output_type": "stream",
     "text": [
      "Level 3 Spells: ['Mass Healing Word', 'Nondetection', 'Revivify', 'Feign Death', 'Speak with Dead']\n"
     ]
    }
   ],
   "source": [
    "level_3_spells = player_character['spells']['level 3']\n",
    "print(\"Level 3 Spells:\", level_3_spells)"
   ]
  },
  {
   "cell_type": "markdown",
   "metadata": {},
   "source": [
    "9. Write code to determine the number of unique elements in the list below.  You MUST use a set in finding your solution.  Print the number of unique values in the list with an appropriate label."
   ]
  },
  {
   "cell_type": "code",
   "execution_count": 15,
   "metadata": {},
   "outputs": [
    {
     "name": "stdout",
     "output_type": "stream",
     "text": [
      "# unique elements: 12\n"
     ]
    }
   ],
   "source": [
    "values = [10, 11, 10, 8, 1, 12, 0, 1, 6, 5, 5, 13, 6, 15, 0, 0, 1, 1, 9, 7]\n",
    "unique_elements = set(values)\n",
    "num_unique_elements = len(unique_elements)\n",
    "\n",
    "print(\"# unique elements:\", num_unique_elements)"
   ]
  },
  {
   "cell_type": "code",
   "execution_count": 16,
   "metadata": {},
   "outputs": [
    {
     "name": "stderr",
     "output_type": "stream",
     "text": [
      "[NbConvertApp] Converting notebook python-ds.ipynb to html\n",
      "[NbConvertApp] Writing 612724 bytes to python-ds.html\n"
     ]
    }
   ],
   "source": [
    "!jupyter nbconvert --to html python-ds.ipynb"
   ]
  },
  {
   "cell_type": "markdown",
   "metadata": {},
   "source": [
    "10. Create a new Jupyter Notebook (the name of the notebook should be your S number). Add a Markdown cell that contains your name. Add a Code cell and write Python that uses loops to draw the following pattern:\n",
    "\n",
    "```\n",
    "*      *\n",
    "**    **\n",
    "***  ***\n",
    "********\n",
    "```\n",
    "Make sure to add and submit both the new notebook and the changes to this notebook for this assignment."
   ]
  }
 ],
 "metadata": {
  "kernelspec": {
   "display_name": "Python 3 (ipykernel)",
   "language": "python",
   "name": "python3"
  },
  "language_info": {
   "codemirror_mode": {
    "name": "ipython",
    "version": 3
   },
   "file_extension": ".py",
   "mimetype": "text/x-python",
   "name": "python",
   "nbconvert_exporter": "python",
   "pygments_lexer": "ipython3",
   "version": "3.9.12"
  }
 },
 "nbformat": 4,
 "nbformat_minor": 4
}
